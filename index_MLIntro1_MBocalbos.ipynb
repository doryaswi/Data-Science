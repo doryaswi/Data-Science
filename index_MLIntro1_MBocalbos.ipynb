{
 "cells": [
  {
   "cell_type": "markdown",
   "metadata": {},
   "source": [
    "## Building a model lab"
   ]
  },
  {
   "cell_type": "markdown",
   "metadata": {},
   "source": [
    "### Introduction"
   ]
  },
  {
   "cell_type": "markdown",
   "metadata": {},
   "source": [
    "In this lesson, we'll use some data for a restaurant to see how the daily temperature can predict how many customers it will have in the day.  It records the weather each bi-weekly over two months.  "
   ]
  },
  {
   "cell_type": "markdown",
   "metadata": {},
   "source": [
    "### Start with a chart of data"
   ]
  },
  {
   "cell_type": "markdown",
   "metadata": {},
   "source": [
    "| temperature        | actual customers           \n",
    "| ------------- |:-------------:| \n",
    "|    80       | 120 | \n",
    "|    65        | 100 | \n",
    "|    50        | 85 | \n",
    "|    70        | 100 | \n",
    "|    60        | 90 | \n"
   ]
  },
  {
   "cell_type": "markdown",
   "metadata": {},
   "source": [
    "Here is a list of the temperatures and a separate list of the customers."
   ]
  },
  {
   "cell_type": "code",
   "execution_count": 1,
   "metadata": {},
   "outputs": [],
   "source": [
    "temperatures = [80, 65, 50, 70, 60]"
   ]
  },
  {
   "cell_type": "code",
   "execution_count": 2,
   "metadata": {},
   "outputs": [],
   "source": [
    "amounts = [120, 100, 85, 100, 90]"
   ]
  },
  {
   "cell_type": "markdown",
   "metadata": {},
   "source": [
    "And we decide to use a linear regression model with the following parameters."
   ]
  },
  {
   "cell_type": "markdown",
   "metadata": {},
   "source": [
    "Our coefficient equals 1.3 and our y-intercept is 20.  Now write out the machine learning model in the cell below.  We'll get you started."
   ]
  },
  {
   "cell_type": "markdown",
   "metadata": {},
   "source": [
    "$$ number\\_of\\_customers = fill\\_in\\_the\\_rest\\_here $$\n",
    "\n",
    "$$ amounts = 1.3*temperatures + 20 $$"
   ]
  },
  {
   "cell_type": "markdown",
   "metadata": {},
   "source": [
    "Now use the above formula to make a prediction of our first two days, with temperatures of 80 degrees and 65 degrees."
   ]
  },
  {
   "cell_type": "code",
   "execution_count": 3,
   "metadata": {},
   "outputs": [
    {
     "data": {
      "text/plain": [
       "124"
      ]
     },
     "execution_count": 3,
     "metadata": {},
     "output_type": "execute_result"
    }
   ],
   "source": [
    "temperatures1 = [80,65]\n",
    "expected_customers_day_1 = round(1.3 * temperatures[0]) + 20\n",
    "expected_customers_day_1\n",
    "# 124"
   ]
  },
  {
   "cell_type": "code",
   "execution_count": 4,
   "metadata": {},
   "outputs": [
    {
     "data": {
      "text/plain": [
       "104"
      ]
     },
     "execution_count": 4,
     "metadata": {},
     "output_type": "execute_result"
    }
   ],
   "source": [
    "expected_customers_day_2 = round(1.3 * temperatures[1]) + 20\n",
    "expected_customers_day_2 \n",
    "# 104"
   ]
  },
  {
   "cell_type": "markdown",
   "metadata": {},
   "source": [
    "| temperature        | actual customers | expected|\n",
    "| ------------- |:-------------:| :-------------:| \n",
    "|    80       | 120 |  ? | \n",
    "|    65        | 100 |  ? | \n",
    "|    50        | 85 | 85 | \n",
    "|    70        | 100 | 111  | \n",
    "|    60        | 90 | 98 | \n"
   ]
  },
  {
   "cell_type": "markdown",
   "metadata": {},
   "source": [
    "### Other expressions of a model "
   ]
  },
  {
   "cell_type": "markdown",
   "metadata": {},
   "source": [
    "Now translate our machine learning model into a function in Python called `predicted_customers`.  It should be in the general form of y = mx + b."
   ]
  },
  {
   "cell_type": "code",
   "execution_count": 5,
   "metadata": {},
   "outputs": [],
   "source": [
    "def predicted_customers(temperature):\n",
    "    expected_customers = round(1.3*temperature) + 20\n",
    "    return expected_customers"
   ]
  },
  {
   "cell_type": "code",
   "execution_count": 6,
   "metadata": {},
   "outputs": [
    {
     "data": {
      "text/plain": [
       "85"
      ]
     },
     "execution_count": 6,
     "metadata": {},
     "output_type": "execute_result"
    }
   ],
   "source": [
    "# predicted_customers(50) # 85\n",
    "predicted_customers(50)"
   ]
  },
  {
   "cell_type": "code",
   "execution_count": 7,
   "metadata": {},
   "outputs": [
    {
     "data": {
      "text/plain": [
       "111"
      ]
     },
     "execution_count": 7,
     "metadata": {},
     "output_type": "execute_result"
    }
   ],
   "source": [
    "# predicted_customers(70) # 111\n",
    "predicted_customers(70)"
   ]
  },
  {
   "cell_type": "markdown",
   "metadata": {},
   "source": [
    "### Visualizing our model"
   ]
  },
  {
   "cell_type": "markdown",
   "metadata": {},
   "source": [
    "Now it's time to visualize our model.  We can start by plotting a graph of our actual data.  Remember that we alread have lists of our temperatures, and the amount of customers."
   ]
  },
  {
   "cell_type": "code",
   "execution_count": 8,
   "metadata": {},
   "outputs": [
    {
     "data": {
      "text/plain": [
       "[80, 65, 50, 70, 60]"
      ]
     },
     "execution_count": 8,
     "metadata": {},
     "output_type": "execute_result"
    }
   ],
   "source": [
    "temperatures"
   ]
  },
  {
   "cell_type": "code",
   "execution_count": 9,
   "metadata": {},
   "outputs": [
    {
     "data": {
      "text/plain": [
       "[120, 100, 85, 100, 90]"
      ]
     },
     "execution_count": 9,
     "metadata": {},
     "output_type": "execute_result"
    }
   ],
   "source": [
    "amounts"
   ]
  },
  {
   "cell_type": "markdown",
   "metadata": {},
   "source": [
    "So we can plot them, by passing them into our `trace_values` function."
   ]
  },
  {
   "cell_type": "code",
   "execution_count": 10,
   "metadata": {},
   "outputs": [
    {
     "data": {
      "text/html": [
       "        <script type=\"text/javascript\">\n",
       "        window.PlotlyConfig = {MathJaxConfig: 'local'};\n",
       "        if (window.MathJax) {MathJax.Hub.Config({SVG: {font: \"STIX-Web\"}});}\n",
       "        if (typeof require !== 'undefined') {\n",
       "        require.undef(\"plotly\");\n",
       "        requirejs.config({\n",
       "            paths: {\n",
       "                'plotly': ['https://cdn.plot.ly/plotly-latest.min']\n",
       "            }\n",
       "        });\n",
       "        require(['plotly'], function(Plotly) {\n",
       "            window._Plotly = Plotly;\n",
       "        });\n",
       "        }\n",
       "        </script>\n",
       "        "
      ]
     },
     "metadata": {},
     "output_type": "display_data"
    },
    {
     "data": {
      "application/vnd.plotly.v1+json": {
       "config": {
        "linkText": "Export to plot.ly",
        "plotlyServerURL": "https://plot.ly",
        "showLink": false
       },
       "data": [
        {
         "mode": "markers",
         "name": "data",
         "text": [],
         "type": "scatter",
         "uid": "39d79b02-6e15-4c37-925b-3b85d57d3524",
         "x": [
          80,
          65,
          50,
          70,
          60
         ],
         "y": [
          120,
          100,
          85,
          100,
          90
         ]
        }
       ],
       "layout": {}
      },
      "text/html": [
       "<div>\n",
       "        \n",
       "        \n",
       "            <div id=\"09cc4460-a3b3-4a14-99f7-354609409e75\" class=\"plotly-graph-div\" style=\"height:525px; width:100%;\"></div>\n",
       "            <script type=\"text/javascript\">\n",
       "                require([\"plotly\"], function(Plotly) {\n",
       "                    window.PLOTLYENV=window.PLOTLYENV || {};\n",
       "                    window.PLOTLYENV.BASE_URL='https://plot.ly';\n",
       "                    \n",
       "                if (document.getElementById(\"09cc4460-a3b3-4a14-99f7-354609409e75\")) {\n",
       "                    Plotly.newPlot(\n",
       "                        '09cc4460-a3b3-4a14-99f7-354609409e75',\n",
       "                        [{\"mode\": \"markers\", \"name\": \"data\", \"text\": [], \"type\": \"scatter\", \"uid\": \"39d79b02-6e15-4c37-925b-3b85d57d3524\", \"x\": [80, 65, 50, 70, 60], \"y\": [120, 100, 85, 100, 90]}],\n",
       "                        {},\n",
       "                        {\"showLink\": false, \"linkText\": \"Export to plot.ly\", \"plotlyServerURL\": \"https://plot.ly\", \"responsive\": true}\n",
       "                    ).then(function(){\n",
       "                            \n",
       "var gd = document.getElementById('09cc4460-a3b3-4a14-99f7-354609409e75');\n",
       "var x = new MutationObserver(function (mutations, observer) {{\n",
       "        var display = window.getComputedStyle(gd).display;\n",
       "        if (!display || display === 'none') {{\n",
       "            console.log([gd, 'removed!']);\n",
       "            Plotly.purge(gd);\n",
       "            observer.disconnect();\n",
       "        }}\n",
       "}});\n",
       "\n",
       "// Listen for the removal of the full notebook cells\n",
       "var notebookContainer = gd.closest('#notebook-container');\n",
       "if (notebookContainer) {{\n",
       "    x.observe(notebookContainer, {childList: true});\n",
       "}}\n",
       "\n",
       "// Listen for the clearing of the current output cell\n",
       "var outputEl = gd.closest('.output');\n",
       "if (outputEl) {{\n",
       "    x.observe(outputEl, {childList: true});\n",
       "}}\n",
       "\n",
       "                        })\n",
       "                };\n",
       "                });\n",
       "            </script>\n",
       "        </div>"
      ]
     },
     "metadata": {},
     "output_type": "display_data"
    }
   ],
   "source": [
    "from graph import trace_values, plot\n",
    "data_trace = trace_values(temperatures, amounts)\n",
    "plot([data_trace])"
   ]
  },
  {
   "cell_type": "markdown",
   "metadata": {},
   "source": [
    "Now your task is display our model as trace of a line our above trace of the data.  Here is the code that we just used.  We'll guide you through in the lines that follow."
   ]
  },
  {
   "cell_type": "code",
   "execution_count": 11,
   "metadata": {},
   "outputs": [
    {
     "data": {
      "application/vnd.plotly.v1+json": {
       "config": {
        "linkText": "Export to plot.ly",
        "plotlyServerURL": "https://plot.ly",
        "showLink": false
       },
       "data": [
        {
         "mode": "markers",
         "name": "data",
         "text": [],
         "type": "scatter",
         "uid": "b654de58-2410-47d3-8665-d1a543faf90a",
         "x": [
          80,
          65,
          50,
          70,
          60
         ],
         "y": [
          120,
          100,
          85,
          100,
          90
         ]
        }
       ],
       "layout": {}
      },
      "text/html": [
       "<div>\n",
       "        \n",
       "        \n",
       "            <div id=\"03b874a2-dc8a-4de6-a687-4c78c2a1aaa2\" class=\"plotly-graph-div\" style=\"height:525px; width:100%;\"></div>\n",
       "            <script type=\"text/javascript\">\n",
       "                require([\"plotly\"], function(Plotly) {\n",
       "                    window.PLOTLYENV=window.PLOTLYENV || {};\n",
       "                    window.PLOTLYENV.BASE_URL='https://plot.ly';\n",
       "                    \n",
       "                if (document.getElementById(\"03b874a2-dc8a-4de6-a687-4c78c2a1aaa2\")) {\n",
       "                    Plotly.newPlot(\n",
       "                        '03b874a2-dc8a-4de6-a687-4c78c2a1aaa2',\n",
       "                        [{\"mode\": \"markers\", \"name\": \"data\", \"text\": [], \"type\": \"scatter\", \"uid\": \"b654de58-2410-47d3-8665-d1a543faf90a\", \"x\": [80, 65, 50, 70, 60], \"y\": [120, 100, 85, 100, 90]}],\n",
       "                        {},\n",
       "                        {\"showLink\": false, \"linkText\": \"Export to plot.ly\", \"plotlyServerURL\": \"https://plot.ly\", \"responsive\": true}\n",
       "                    ).then(function(){\n",
       "                            \n",
       "var gd = document.getElementById('03b874a2-dc8a-4de6-a687-4c78c2a1aaa2');\n",
       "var x = new MutationObserver(function (mutations, observer) {{\n",
       "        var display = window.getComputedStyle(gd).display;\n",
       "        if (!display || display === 'none') {{\n",
       "            console.log([gd, 'removed!']);\n",
       "            Plotly.purge(gd);\n",
       "            observer.disconnect();\n",
       "        }}\n",
       "}});\n",
       "\n",
       "// Listen for the removal of the full notebook cells\n",
       "var notebookContainer = gd.closest('#notebook-container');\n",
       "if (notebookContainer) {{\n",
       "    x.observe(notebookContainer, {childList: true});\n",
       "}}\n",
       "\n",
       "// Listen for the clearing of the current output cell\n",
       "var outputEl = gd.closest('.output');\n",
       "if (outputEl) {{\n",
       "    x.observe(outputEl, {childList: true});\n",
       "}}\n",
       "\n",
       "                        })\n",
       "                };\n",
       "                });\n",
       "            </script>\n",
       "        </div>"
      ]
     },
     "metadata": {},
     "output_type": "display_data"
    }
   ],
   "source": [
    "from graph import trace_values, plot\n",
    "data_trace = trace_values(temperatures, amounts)\n",
    "plot([data_trace])"
   ]
  },
  {
   "cell_type": "markdown",
   "metadata": {},
   "source": [
    "So to plot a trace of our model, we need a set of x values, which are our inputs of the temperatures."
   ]
  },
  {
   "cell_type": "code",
   "execution_count": 12,
   "metadata": {},
   "outputs": [],
   "source": [
    "inputs = [50, 55, 60, 65, 70, 75, 80, 85, 90]"
   ]
  },
  {
   "cell_type": "markdown",
   "metadata": {},
   "source": [
    "And it's your task to calculate the expected outputs for each of these inputs.  Assign these expected outputs to the variable `predicted_customers`."
   ]
  },
  {
   "cell_type": "code",
   "execution_count": 13,
   "metadata": {},
   "outputs": [
    {
     "data": {
      "text/plain": [
       "[85, 92, 98, 104, 111, 118, 124, 130, 137]"
      ]
     },
     "execution_count": 13,
     "metadata": {},
     "output_type": "execute_result"
    }
   ],
   "source": [
    "predicted_customers = [predicted_customers(input) for input in inputs]\n",
    "predicted_customers"
   ]
  },
  {
   "cell_type": "markdown",
   "metadata": {},
   "source": [
    "Next we can create a `model_trace` and plot it alongside our data."
   ]
  },
  {
   "cell_type": "code",
   "execution_count": 14,
   "metadata": {},
   "outputs": [],
   "source": [
    "model_trace = trace_values(inputs, predicted_customers, mode = 'lines', name = 'model')"
   ]
  },
  {
   "cell_type": "markdown",
   "metadata": {},
   "source": [
    "Uncomment the code below to display a trace of our model and our outputs."
   ]
  },
  {
   "cell_type": "code",
   "execution_count": 15,
   "metadata": {},
   "outputs": [
    {
     "data": {
      "application/vnd.plotly.v1+json": {
       "config": {
        "linkText": "Export to plot.ly",
        "plotlyServerURL": "https://plot.ly",
        "showLink": false
       },
       "data": [
        {
         "mode": "markers",
         "name": "data",
         "text": [],
         "type": "scatter",
         "uid": "681b4f67-745a-4e66-8169-04ce88eab00a",
         "x": [
          80,
          65,
          50,
          70,
          60
         ],
         "y": [
          120,
          100,
          85,
          100,
          90
         ]
        },
        {
         "mode": "lines",
         "name": "model",
         "text": [],
         "type": "scatter",
         "uid": "65ca4faa-19de-42d6-9662-9d2d0bbfb7dc",
         "x": [
          50,
          55,
          60,
          65,
          70,
          75,
          80,
          85,
          90
         ],
         "y": [
          85,
          92,
          98,
          104,
          111,
          118,
          124,
          130,
          137
         ]
        }
       ],
       "layout": {}
      },
      "text/html": [
       "<div>\n",
       "        \n",
       "        \n",
       "            <div id=\"134c97e6-dc14-4cc1-835f-ea98f65a7e73\" class=\"plotly-graph-div\" style=\"height:525px; width:100%;\"></div>\n",
       "            <script type=\"text/javascript\">\n",
       "                require([\"plotly\"], function(Plotly) {\n",
       "                    window.PLOTLYENV=window.PLOTLYENV || {};\n",
       "                    window.PLOTLYENV.BASE_URL='https://plot.ly';\n",
       "                    \n",
       "                if (document.getElementById(\"134c97e6-dc14-4cc1-835f-ea98f65a7e73\")) {\n",
       "                    Plotly.newPlot(\n",
       "                        '134c97e6-dc14-4cc1-835f-ea98f65a7e73',\n",
       "                        [{\"mode\": \"markers\", \"name\": \"data\", \"text\": [], \"type\": \"scatter\", \"uid\": \"681b4f67-745a-4e66-8169-04ce88eab00a\", \"x\": [80, 65, 50, 70, 60], \"y\": [120, 100, 85, 100, 90]}, {\"mode\": \"lines\", \"name\": \"model\", \"text\": [], \"type\": \"scatter\", \"uid\": \"65ca4faa-19de-42d6-9662-9d2d0bbfb7dc\", \"x\": [50, 55, 60, 65, 70, 75, 80, 85, 90], \"y\": [85, 92, 98, 104, 111, 118, 124, 130, 137]}],\n",
       "                        {},\n",
       "                        {\"showLink\": false, \"linkText\": \"Export to plot.ly\", \"plotlyServerURL\": \"https://plot.ly\", \"responsive\": true}\n",
       "                    ).then(function(){\n",
       "                            \n",
       "var gd = document.getElementById('134c97e6-dc14-4cc1-835f-ea98f65a7e73');\n",
       "var x = new MutationObserver(function (mutations, observer) {{\n",
       "        var display = window.getComputedStyle(gd).display;\n",
       "        if (!display || display === 'none') {{\n",
       "            console.log([gd, 'removed!']);\n",
       "            Plotly.purge(gd);\n",
       "            observer.disconnect();\n",
       "        }}\n",
       "}});\n",
       "\n",
       "// Listen for the removal of the full notebook cells\n",
       "var notebookContainer = gd.closest('#notebook-container');\n",
       "if (notebookContainer) {{\n",
       "    x.observe(notebookContainer, {childList: true});\n",
       "}}\n",
       "\n",
       "// Listen for the clearing of the current output cell\n",
       "var outputEl = gd.closest('.output');\n",
       "if (outputEl) {{\n",
       "    x.observe(outputEl, {childList: true});\n",
       "}}\n",
       "\n",
       "                        })\n",
       "                };\n",
       "                });\n",
       "            </script>\n",
       "        </div>"
      ]
     },
     "metadata": {},
     "output_type": "display_data"
    }
   ],
   "source": [
    "from graph import trace_values, plot\n",
    "data_trace = trace_values(temperatures, amounts)\n",
    "layout = {'yaxis': {'range': [0, 18], 'title': 'expected customers'}, 'xaxis': {'title': 'temperatures'}}\n",
    "plot([data_trace, model_trace])"
   ]
  },
  {
   "cell_type": "markdown",
   "metadata": {},
   "source": [
    "### Summary"
   ]
  },
  {
   "cell_type": "markdown",
   "metadata": {},
   "source": [
    "In this lesson, we built our own machine learning model and plotted it alongside our data.  We started by expressing our machine learning model as a math formula, and used it to plug in different temperatures and calculate the expected number of customers. \n",
    "\n",
    "Then we saw that we could translate our machine learning model into code by using a Python function that takes an input and returns an output.  Finally, we plotted our model as a line alongside our actual data.  "
   ]
  }
 ],
 "metadata": {
  "kernelspec": {
   "display_name": "Python 3",
   "language": "python",
   "name": "python3"
  },
  "language_info": {
   "codemirror_mode": {
    "name": "ipython",
    "version": 3
   },
   "file_extension": ".py",
   "mimetype": "text/x-python",
   "name": "python",
   "nbconvert_exporter": "python",
   "pygments_lexer": "ipython3",
   "version": "3.7.1"
  }
 },
 "nbformat": 4,
 "nbformat_minor": 2
}
