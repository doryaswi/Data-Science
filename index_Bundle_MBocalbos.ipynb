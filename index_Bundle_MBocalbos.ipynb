{
 "cells": [
  {
   "cell_type": "markdown",
   "metadata": {},
   "source": [
    "# Object Lifecycle Practice"
   ]
  },
  {
   "cell_type": "markdown",
   "metadata": {},
   "source": [
    "### Introduction"
   ]
  },
  {
   "cell_type": "markdown",
   "metadata": {},
   "source": [
    "Now that we know about our object lifecycle method, let's refactor our previous class.  Copy and paste in your previous `Bundle` class from the `Understanding Self Lab`."
   ]
  },
  {
   "cell_type": "code",
   "execution_count": 4,
   "metadata": {},
   "outputs": [],
   "source": [
    "class Bundle:\n",
    "    def __init__(self,dropmonth,dropday):\n",
    "        self.dropmonth = dropmonth\n",
    "        self.dropday = dropday\n",
    "        \n",
    "    def price(self):\n",
    "        if self.weight <= 5:\n",
    "            price = 10\n",
    "        else:\n",
    "            price = 10 + ((self.weight - 5) * 1.50)\n",
    "        return price\n",
    "    \n",
    "    def processingDays(self):\n",
    "        month_diff = self.ready_month - self.dropoff_month\n",
    "        day_diff = self.ready_day - self.dropoff_day\n",
    "        return month_diff * 30 + day_diff\n",
    "        \n",
    "    def holdingDays(self):\n",
    "        month_diff = self.pickup_month - self.dropoff_month\n",
    "        day_diff = self.pickup_day - self.dropoff_day\n",
    "        return month_diff * 30 + day_diff"
   ]
  },
  {
   "cell_type": "markdown",
   "metadata": {},
   "source": [
    "### Refactoring"
   ]
  },
  {
   "cell_type": "markdown",
   "metadata": {},
   "source": [
    "Let's create one of our bundles."
   ]
  },
  {
   "cell_type": "code",
   "execution_count": 2,
   "metadata": {},
   "outputs": [],
   "source": [
    "bundle = Bundle()"
   ]
  },
  {
   "cell_type": "code",
   "execution_count": 3,
   "metadata": {},
   "outputs": [
    {
     "data": {
      "text/plain": [
       "dict_keys(['dropoff_month', 'dropoff_day', 'ready_month', 'ready_day'])"
      ]
     },
     "execution_count": 3,
     "metadata": {},
     "output_type": "execute_result"
    }
   ],
   "source": [
    "from test_helpers import addDaysToBundle\n",
    "\n",
    "bundle = Bundle()\n",
    "\n",
    "bundle\n",
    "\n",
    "addDaysToBundle(bundle)\n",
    "bundle.__dict__.keys()"
   ]
  },
  {
   "cell_type": "code",
   "execution_count": 5,
   "metadata": {},
   "outputs": [
    {
     "data": {
      "text/plain": [
       "dict_keys(['dropmonth', 'dropday'])"
      ]
     },
     "execution_count": 5,
     "metadata": {},
     "output_type": "execute_result"
    }
   ],
   "source": [
    "newbundle = Bundle(5,29)\n",
    "newbundle.__dict__.keys()"
   ]
  },
  {
   "cell_type": "markdown",
   "metadata": {},
   "source": [
    "**`__init__ method`:** My `__init__` method will create the bundle with the drop off date, that is, dropoffmonth and dropoffday. I think this should be initialized since the bundle/laundry will start to be processed ones someone dropoffs his/her bundle at the shop."
   ]
  },
  {
   "cell_type": "markdown",
   "metadata": {},
   "source": [
    "Now if we add an `__init__` method to our class, we are requiring certain information to be provided when we initialize the object.  Think about what information should be moved be required when initializing, and change the `Bundle` class accordingly."
   ]
  }
 ],
 "metadata": {
  "kernelspec": {
   "display_name": "Python 3",
   "language": "python",
   "name": "python3"
  },
  "language_info": {
   "codemirror_mode": {
    "name": "ipython",
    "version": 3
   },
   "file_extension": ".py",
   "mimetype": "text/x-python",
   "name": "python",
   "nbconvert_exporter": "python",
   "pygments_lexer": "ipython3",
   "version": "3.7.1"
  }
 },
 "nbformat": 4,
 "nbformat_minor": 2
}
