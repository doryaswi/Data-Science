{
 "cells": [
  {
   "cell_type": "markdown",
   "metadata": {},
   "source": [
    "### Introduction\n",
    "\n",
    "Let's continue to use the Texas Mixed Beverage API.  The documentation can be found [here](https://dev.socrata.com/foundry/data.texas.gov/naix-2893) (go to the page and scroll down) and [here](https://dev.socrata.com/docs/queries/).\n",
    "\n"
   ]
  },
  {
   "cell_type": "markdown",
   "metadata": {},
   "source": [
    "### Complete the following tasks."
   ]
  },
  {
   "cell_type": "markdown",
   "metadata": {},
   "source": [
    "1. Find all of the restaurants listed with a zip code of `75002` and store that list of dictionaries in the variable labled `results`."
   ]
  },
  {
   "cell_type": "code",
   "execution_count": 1,
   "metadata": {},
   "outputs": [],
   "source": [
    "url = 'https://data.texas.gov/resource/naix-2893.json?location_zip=75002'\n",
    "import requests\n",
    "response = requests.get(url)\n",
    "results = response.json()"
   ]
  },
  {
   "cell_type": "code",
   "execution_count": 2,
   "metadata": {},
   "outputs": [
    {
     "data": {
      "text/plain": [
       "1000"
      ]
     },
     "execution_count": 2,
     "metadata": {},
     "output_type": "execute_result"
    }
   ],
   "source": [
    "len(results)\n",
    "# 1000"
   ]
  },
  {
   "cell_type": "markdown",
   "metadata": {},
   "source": [
    "Now make another API call, and display only those results who had total receipts of 0."
   ]
  },
  {
   "cell_type": "code",
   "execution_count": 3,
   "metadata": {},
   "outputs": [],
   "source": [
    "receipts_url = 'https://data.texas.gov/resource/naix-2893.json?location_zip=75002&total_receipts=0'\n",
    "res_receipts = requests.get(receipts_url)\n",
    "results_with_zero = res_receipts.json()"
   ]
  },
  {
   "cell_type": "code",
   "execution_count": 4,
   "metadata": {},
   "outputs": [
    {
     "data": {
      "text/plain": [
       "99"
      ]
     },
     "execution_count": 4,
     "metadata": {},
     "output_type": "execute_result"
    }
   ],
   "source": [
    "len(results_with_zero)\n",
    "# 98 "
   ]
  },
  {
   "cell_type": "markdown",
   "metadata": {},
   "source": [
    "Next let's try to find the top five results in that zip code with the highest total_receipts.  "
   ]
  },
  {
   "cell_type": "markdown",
   "metadata": {},
   "source": [
    "> Hint: Think about how this is done in SQL."
   ]
  },
  {
   "cell_type": "code",
   "execution_count": 5,
   "metadata": {},
   "outputs": [
    {
     "data": {
      "text/plain": [
       "[{'taxpayer_number': '12736548525',\n",
       "  'taxpayer_name': 'TOPGOLF USA ALLEN, LLC',\n",
       "  'taxpayer_address': '8750 N CENTRAL EXPY STE 1200',\n",
       "  'taxpayer_city': 'DALLAS',\n",
       "  'taxpayer_state': 'TX',\n",
       "  'taxpayer_zip': '75231',\n",
       "  'taxpayer_county': '57',\n",
       "  'location_number': '1',\n",
       "  'location_name': 'BURGERS & BOTTLES',\n",
       "  'location_address': '1500 ALLEN STATION PKWY',\n",
       "  'location_city': 'ALLEN',\n",
       "  'location_state': 'TX',\n",
       "  'location_zip': '75002',\n",
       "  'location_county': '43',\n",
       "  'inside_outside_city_limits_code_y_n': 'Y',\n",
       "  'tabc_permit_number': 'RM773027',\n",
       "  'responsibility_begin_date_yyyymmdd': '2011-04-15T00:00:00.000',\n",
       "  'obligation_end_date_yyyymmdd': '2012-11-30T00:00:00.000',\n",
       "  'liquor_receipts': '151455',\n",
       "  'wine_receipts': '22735',\n",
       "  'beer_receipts': '229655',\n",
       "  'cover_charge_receipts': '0',\n",
       "  'total_receipts': '403845'},\n",
       " {'taxpayer_number': '12736548525',\n",
       "  'taxpayer_name': 'TOPGOLF USA ALLEN, LLC',\n",
       "  'taxpayer_address': '8750 N CENTRAL EXPY STE 1200',\n",
       "  'taxpayer_city': 'DALLAS',\n",
       "  'taxpayer_state': 'TX',\n",
       "  'taxpayer_zip': '75231',\n",
       "  'taxpayer_county': '57',\n",
       "  'location_number': '1',\n",
       "  'location_name': 'BURGERS & BOTTLES',\n",
       "  'location_address': '1500 ALLEN STATION PKWY',\n",
       "  'location_city': 'ALLEN',\n",
       "  'location_state': 'TX',\n",
       "  'location_zip': '75002',\n",
       "  'location_county': '43',\n",
       "  'inside_outside_city_limits_code_y_n': 'Y',\n",
       "  'tabc_permit_number': 'RM773027',\n",
       "  'responsibility_begin_date_yyyymmdd': '2011-04-15T00:00:00.000',\n",
       "  'obligation_end_date_yyyymmdd': '2013-05-31T00:00:00.000',\n",
       "  'liquor_receipts': '147229',\n",
       "  'wine_receipts': '17470',\n",
       "  'beer_receipts': '194749',\n",
       "  'cover_charge_receipts': '0',\n",
       "  'total_receipts': '359448'},\n",
       " {'taxpayer_number': '12736548525',\n",
       "  'taxpayer_name': 'TOPGOLF USA ALLEN, LLC',\n",
       "  'taxpayer_address': '8750 N CENTRAL EXPY STE 1200',\n",
       "  'taxpayer_city': 'DALLAS',\n",
       "  'taxpayer_state': 'TX',\n",
       "  'taxpayer_zip': '75231',\n",
       "  'taxpayer_county': '57',\n",
       "  'location_number': '1',\n",
       "  'location_name': 'BURGERS & BOTTLES',\n",
       "  'location_address': '1500 ALLEN STATION PKWY',\n",
       "  'location_city': 'ALLEN',\n",
       "  'location_state': 'TX',\n",
       "  'location_zip': '75002',\n",
       "  'location_county': '43',\n",
       "  'inside_outside_city_limits_code_y_n': 'Y',\n",
       "  'tabc_permit_number': 'RM773027',\n",
       "  'responsibility_begin_date_yyyymmdd': '2011-04-15T00:00:00.000',\n",
       "  'obligation_end_date_yyyymmdd': '2013-06-30T00:00:00.000',\n",
       "  'liquor_receipts': '135385',\n",
       "  'wine_receipts': '16796',\n",
       "  'beer_receipts': '192657',\n",
       "  'cover_charge_receipts': '0',\n",
       "  'total_receipts': '344838'},\n",
       " {'taxpayer_number': '12736548525',\n",
       "  'taxpayer_name': 'TOPGOLF USA ALLEN, LLC',\n",
       "  'taxpayer_address': '8750 N CENTRAL EXPY STE 1200',\n",
       "  'taxpayer_city': 'DALLAS',\n",
       "  'taxpayer_state': 'TX',\n",
       "  'taxpayer_zip': '75231',\n",
       "  'taxpayer_county': '57',\n",
       "  'location_number': '1',\n",
       "  'location_name': 'BURGERS & BOTTLES',\n",
       "  'location_address': '1500 ALLEN STATION PKWY',\n",
       "  'location_city': 'ALLEN',\n",
       "  'location_state': 'TX',\n",
       "  'location_zip': '75002',\n",
       "  'location_county': '43',\n",
       "  'inside_outside_city_limits_code_y_n': 'Y',\n",
       "  'tabc_permit_number': 'RM773027',\n",
       "  'responsibility_begin_date_yyyymmdd': '2011-04-15T00:00:00.000',\n",
       "  'obligation_end_date_yyyymmdd': '2013-03-31T00:00:00.000',\n",
       "  'liquor_receipts': '130571',\n",
       "  'wine_receipts': '18237',\n",
       "  'beer_receipts': '192278',\n",
       "  'cover_charge_receipts': '0',\n",
       "  'total_receipts': '341086'},\n",
       " {'taxpayer_number': '12736548525',\n",
       "  'taxpayer_name': 'TOPGOLF USA ALLEN, LLC',\n",
       "  'taxpayer_address': '8750 N CENTRAL EXPY STE 1200',\n",
       "  'taxpayer_city': 'DALLAS',\n",
       "  'taxpayer_state': 'TX',\n",
       "  'taxpayer_zip': '75231',\n",
       "  'taxpayer_county': '57',\n",
       "  'location_number': '1',\n",
       "  'location_name': 'BURGERS & BOTTLES',\n",
       "  'location_address': '1500 ALLEN STATION PKWY',\n",
       "  'location_city': 'ALLEN',\n",
       "  'location_state': 'TX',\n",
       "  'location_zip': '75002',\n",
       "  'location_county': '43',\n",
       "  'inside_outside_city_limits_code_y_n': 'Y',\n",
       "  'tabc_permit_number': 'RM773027',\n",
       "  'responsibility_begin_date_yyyymmdd': '2011-04-15T00:00:00.000',\n",
       "  'obligation_end_date_yyyymmdd': '2013-08-31T00:00:00.000',\n",
       "  'liquor_receipts': '120241',\n",
       "  'wine_receipts': '16541',\n",
       "  'beer_receipts': '196756',\n",
       "  'cover_charge_receipts': '0',\n",
       "  'total_receipts': '333538'}]"
      ]
     },
     "execution_count": 5,
     "metadata": {},
     "output_type": "execute_result"
    }
   ],
   "source": [
    "high_url = \"https://data.texas.gov/resource/naix-2893.json?$where=location_zip='75002'&$order=total_receipts DESC&$LIMIT=5\"\n",
    "res_high = requests.get(high_url)\n",
    "results_of_highest = res_high.json()\n",
    "\n",
    "results_of_highest"
   ]
  },
  {
   "cell_type": "code",
   "execution_count": 6,
   "metadata": {},
   "outputs": [
    {
     "data": {
      "text/plain": [
       "['403845', '359448', '344838', '341086', '333538']"
      ]
     },
     "execution_count": 6,
     "metadata": {},
     "output_type": "execute_result"
    }
   ],
   "source": [
    "list(map(lambda result: result['total_receipts'],results_of_highest))\n",
    "# ['403845', '359448', '344838', '341086', '333538']"
   ]
  },
  {
   "cell_type": "markdown",
   "metadata": {},
   "source": [
    "### Summary "
   ]
  },
  {
   "cell_type": "markdown",
   "metadata": {},
   "source": [
    "Great job.  Continue to search through this API, and see the different queries that you can make.  Note that this is how many governmental APIs work."
   ]
  }
 ],
 "metadata": {
  "kernelspec": {
   "display_name": "Python 3",
   "language": "python",
   "name": "python3"
  },
  "language_info": {
   "codemirror_mode": {
    "name": "ipython",
    "version": 3
   },
   "file_extension": ".py",
   "mimetype": "text/x-python",
   "name": "python",
   "nbconvert_exporter": "python",
   "pygments_lexer": "ipython3",
   "version": "3.7.1"
  }
 },
 "nbformat": 4,
 "nbformat_minor": 2
}
